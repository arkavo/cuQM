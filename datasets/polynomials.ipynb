{
 "cells": [
  {
   "cell_type": "markdown",
   "metadata": {},
   "source": [
    "#Polynomial datasets"
   ]
  },
  {
   "cell_type": "code",
   "execution_count": 1,
   "metadata": {},
   "outputs": [],
   "source": [
    "import numpy as np\n",
    "import matplotlib.pyplot as plt\n",
    "import pandas as pd"
   ]
  },
  {
   "cell_type": "code",
   "execution_count": 27,
   "metadata": {},
   "outputs": [
    {
     "name": "stdout",
     "output_type": "stream",
     "text": [
      "[[ -2  17  -7   4 -19   7  10 -17  14   4]\n",
      " [  1   0   1   0   0   0   0   0   1   1]]\n",
      "[]\n"
     ]
    }
   ],
   "source": [
    "poly_data = np.array([])\n",
    "\n",
    "\n",
    "for j in range(1):\n",
    "    d = 10\n",
    "    #print(d)\n",
    "    coefficients = np.random.randint(-20,20,d)\n",
    "    powers = np.random.randint(0,2,d)\n",
    "    #print(coefficients)\n",
    "    #print(powers)\n",
    "    X = np.linspace(-100,100,201)\n",
    "    Y = np.zeros_like(X)\n",
    "    for x in X:\n",
    "        for i in range(d):\n",
    "            Y[int(x+100)] += coefficients[i]*powers[i]*np.power(x,d)\n",
    "    cur_row = np.array([coefficients,powers])\n",
    "    print(cur_row)\n",
    "    np.append(poly_data,cur_row)\n",
    "    #print(Y)\n",
    "print(poly_data)"
   ]
  },
  {
   "cell_type": "code",
   "execution_count": 3,
   "metadata": {},
   "outputs": [
    {
     "name": "stdout",
     "output_type": "stream",
     "text": [
      "Empty DataFrame\n",
      "Columns: []\n",
      "Index: []\n"
     ]
    }
   ],
   "source": [
    "print(poly_data.head())\n",
    "poly_data.to_csv('poly_data.csv')\n",
    "#print(Y)"
   ]
  }
 ],
 "metadata": {
  "interpreter": {
   "hash": "ac59ebe37160ed0dfa835113d9b8498d9f09ceb179beaac4002f036b9467c963"
  },
  "kernelspec": {
   "display_name": "Python 3.9.6 64-bit",
   "name": "python3"
  },
  "language_info": {
   "codemirror_mode": {
    "name": "ipython",
    "version": 3
   },
   "file_extension": ".py",
   "mimetype": "text/x-python",
   "name": "python",
   "nbconvert_exporter": "python",
   "pygments_lexer": "ipython3",
   "version": "3.9.6"
  },
  "orig_nbformat": 4
 },
 "nbformat": 4,
 "nbformat_minor": 2
}
