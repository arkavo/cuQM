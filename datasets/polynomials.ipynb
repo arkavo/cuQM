{
 "cells": [
  {
   "cell_type": "markdown",
   "metadata": {},
   "source": [
    "#Polynomial datasets"
   ]
  },
  {
   "cell_type": "code",
   "execution_count": 82,
   "metadata": {},
   "outputs": [],
   "source": [
    "import numpy as np\n",
    "import matplotlib.pyplot as plt\n",
    "import pandas as pd"
   ]
  },
  {
   "cell_type": "code",
   "execution_count": 83,
   "metadata": {},
   "outputs": [
    {
     "name": "stdout",
     "output_type": "stream",
     "text": [
      "7\n"
     ]
    }
   ],
   "source": [
    "d = np.random.randint(10)\n",
    "print(d)\n",
    "coefficients = np.random.randint(-100,100,d)\n",
    "powers = np.random.randint(0,2,d)"
   ]
  },
  {
   "cell_type": "code",
   "execution_count": 84,
   "metadata": {},
   "outputs": [
    {
     "name": "stdout",
     "output_type": "stream",
     "text": [
      "[-21  13  89  72 -25 -98 -48]\n",
      "[0 1 1 0 0 1 0]\n"
     ]
    }
   ],
   "source": [
    "print(coefficients)\n",
    "print(powers)"
   ]
  },
  {
   "cell_type": "code",
   "execution_count": 85,
   "metadata": {},
   "outputs": [
    {
     "name": "stdout",
     "output_type": "stream",
     "text": [
      "[-4.00000000e+14 -3.72826139e+14 -3.47250213e+14 -3.23193138e+14\n",
      " -3.00578991e+14 -2.79334918e+14 -2.59391038e+14 -2.40680348e+14\n",
      " -2.23138640e+14 -2.06704408e+14 -1.91318760e+14 -1.76925340e+14\n",
      " -1.63470239e+14 -1.50901918e+14 -1.39171129e+14 -1.28230835e+14\n",
      " -1.18036139e+14 -1.08544204e+14 -9.97141882e+13 -9.15071698e+13\n",
      " -8.38860800e+13 -7.68156359e+13 -7.02622754e+13 -6.41940931e+13\n",
      " -5.85807783e+13 -5.33935547e+13 -4.86051211e+13 -4.41895941e+13\n",
      " -4.01224520e+13 -3.63804806e+13 -3.29417200e+13 -2.97854130e+13\n",
      " -2.68919553e+13 -2.42428464e+13 -2.18206428e+13 -1.96089116e+13\n",
      " -1.75921860e+13 -1.57559226e+13 -1.40864584e+13 -1.25709713e+13\n",
      " -1.11974400e+13 -9.95460594e+12 -8.83193667e+12 -7.81958997e+12\n",
      " -6.90837940e+12 -6.08974094e+12 -5.35570084e+12 -4.69884456e+12\n",
      " -4.11228681e+12 -3.58964271e+12 -3.12500000e+12 -2.71289229e+12\n",
      " -2.34827337e+12 -2.02649248e+12 -1.74327063e+12 -1.49467781e+12\n",
      " -1.27711124e+12 -1.08727444e+12 -9.22157333e+11 -7.79017096e+11\n",
      " -6.55360000e+11 -5.48924027e+11 -4.57662330e+11 -3.79727509e+11\n",
      " -3.13456656e+11 -2.57357188e+11 -2.10093401e+11 -1.70473772e+11\n",
      " -1.37438953e+11 -1.10050456e+11 -8.74800000e+10 -6.89995052e+10\n",
      " -5.39717140e+10 -4.18414128e+10 -3.21272407e+10 -2.44140625e+10\n",
      " -1.83458857e+10 -1.36193018e+10 -9.97743155e+09 -7.20435416e+09\n",
      " -5.12000000e+09 -3.57548696e+09 -2.44888013e+09 -1.64135469e+09\n",
      " -1.07374182e+09 -6.83437500e+08 -4.21654016e+08 -2.50994068e+08\n",
      " -1.43327232e+08 -7.79486840e+07 -4.00000000e+07 -1.91318760e+07\n",
      " -8.38860800e+06 -3.29417200e+06 -1.11974400e+06 -3.12500000e+05\n",
      " -6.55360000e+04 -8.74800000e+03 -5.12000000e+02 -4.00000000e+00\n",
      "  0.00000000e+00  4.00000000e+00  5.12000000e+02  8.74800000e+03\n",
      "  6.55360000e+04  3.12500000e+05  1.11974400e+06  3.29417200e+06\n",
      "  8.38860800e+06  1.91318760e+07  4.00000000e+07  7.79486840e+07\n",
      "  1.43327232e+08  2.50994068e+08  4.21654016e+08  6.83437500e+08\n",
      "  1.07374182e+09  1.64135469e+09  2.44888013e+09  3.57548696e+09\n",
      "  5.12000000e+09  7.20435416e+09  9.97743155e+09  1.36193018e+10\n",
      "  1.83458857e+10  2.44140625e+10  3.21272407e+10  4.18414128e+10\n",
      "  5.39717140e+10  6.89995052e+10  8.74800000e+10  1.10050456e+11\n",
      "  1.37438953e+11  1.70473772e+11  2.10093401e+11  2.57357188e+11\n",
      "  3.13456656e+11  3.79727509e+11  4.57662330e+11  5.48924027e+11\n",
      "  6.55360000e+11  7.79017096e+11  9.22157333e+11  1.08727444e+12\n",
      "  1.27711124e+12  1.49467781e+12  1.74327063e+12  2.02649248e+12\n",
      "  2.34827337e+12  2.71289229e+12  3.12500000e+12  3.58964271e+12\n",
      "  4.11228681e+12  4.69884456e+12  5.35570084e+12  6.08974094e+12\n",
      "  6.90837940e+12  7.81958997e+12  8.83193667e+12  9.95460594e+12\n",
      "  1.11974400e+13  1.25709713e+13  1.40864584e+13  1.57559226e+13\n",
      "  1.75921860e+13  1.96089116e+13  2.18206428e+13  2.42428464e+13\n",
      "  2.68919553e+13  2.97854130e+13  3.29417200e+13  3.63804806e+13\n",
      "  4.01224520e+13  4.41895941e+13  4.86051211e+13  5.33935547e+13\n",
      "  5.85807783e+13  6.41940931e+13  7.02622754e+13  7.68156359e+13\n",
      "  8.38860800e+13  9.15071698e+13  9.97141882e+13  1.08544204e+14\n",
      "  1.18036139e+14  1.28230835e+14  1.39171129e+14  1.50901918e+14\n",
      "  1.63470239e+14  1.76925340e+14  1.91318760e+14  2.06704408e+14\n",
      "  2.23138640e+14  2.40680348e+14  2.59391038e+14  2.79334918e+14\n",
      "  3.00578991e+14  3.23193138e+14  3.47250213e+14  3.72826139e+14\n",
      "  4.00000000e+14]\n"
     ]
    }
   ],
   "source": [
    "X = np.linspace(-100,100,201)\n",
    "Y = np.zeros_like(X)\n",
    "for x in X:\n",
    "    for i in range(d):\n",
    "        Y[int(x+100)] += coefficients[i]*powers[i]*np.power(x,d)\n",
    "\n",
    "print(Y)"
   ]
  },
  {
   "cell_type": "code",
   "execution_count": 86,
   "metadata": {},
   "outputs": [
    {
     "data": {
      "image/png": "[encoded data removed]",
      "text/plain": [
       "<Figure size 432x288 with 1 Axes>"
      ]
     },
     "metadata": {
      "needs_background": "light"
     },
     "output_type": "display_data"
    }
   ],
   "source": [
    "plt.plot(Y)\n",
    "plt.show()"
   ]
  }
 ],
 "metadata": {
  "interpreter": {
   "hash": "ac59ebe37160ed0dfa835113d9b8498d9f09ceb179beaac4002f036b9467c963"
  },
  "kernelspec": {
   "display_name": "Python 3.9.6 64-bit",
   "name": "python3"
  },
  "language_info": {
   "codemirror_mode": {
    "name": "ipython",
    "version": 3
   },
   "file_extension": ".py",
   "mimetype": "text/x-python",
   "name": "python",
   "nbconvert_exporter": "python",
   "pygments_lexer": "ipython3",
   "version": "3.9.6"
  },
  "orig_nbformat": 4
 },
 "nbformat": 4,
 "nbformat_minor": 2
}
